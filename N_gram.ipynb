{
  "nbformat": 4,
  "nbformat_minor": 0,
  "metadata": {
    "colab": {
      "name": "N_gram.ipynb",
      "provenance": [],
      "collapsed_sections": []
    },
    "kernelspec": {
      "name": "python3",
      "display_name": "Python 3"
    },
    "language_info": {
      "name": "python"
    }
  },
  "cells": [
    {
      "cell_type": "code",
      "metadata": {
        "colab": {
          "base_uri": "https://localhost:8080/",
          "height": 496
        },
        "id": "7fNUsA3rqiuI",
        "outputId": "c7b250f3-e935-4168-c301-e93abcdc8b3b"
      },
      "source": [
        "import pandas as pd\n",
        "# Dataset will be stored in a Pandas Dataframe\n",
        "\n",
        "#url = 'https://raw.githubusercontent.com/EnesGokceDS/NLP_with_Tourism_Data/master/tourism_tweets_cleaned.csv'\n",
        "url= 'https://raw.githubusercontent.com/DataScience-in-Tourism/Introduction_to_NLP/main/tourism_tweets_cleaned.csv'\n",
        "df = pd.read_csv(url)\n",
        "df.head(5)"
      ],
      "execution_count": 89,
      "outputs": [
        {
          "output_type": "execute_result",
          "data": {
            "text/html": [
              "<div>\n",
              "<style scoped>\n",
              "    .dataframe tbody tr th:only-of-type {\n",
              "        vertical-align: middle;\n",
              "    }\n",
              "\n",
              "    .dataframe tbody tr th {\n",
              "        vertical-align: top;\n",
              "    }\n",
              "\n",
              "    .dataframe thead th {\n",
              "        text-align: right;\n",
              "    }\n",
              "</style>\n",
              "<table border=\"1\" class=\"dataframe\">\n",
              "  <thead>\n",
              "    <tr style=\"text-align: right;\">\n",
              "      <th></th>\n",
              "      <th>Unnamed: 0</th>\n",
              "      <th>id1</th>\n",
              "      <th>url</th>\n",
              "      <th>url2</th>\n",
              "      <th>date</th>\n",
              "      <th>username</th>\n",
              "      <th>quote</th>\n",
              "      <th>tweet</th>\n",
              "      <th>as1</th>\n",
              "      <th>as2</th>\n",
              "      <th>as3</th>\n",
              "      <th>as4</th>\n",
              "      <th>as5</th>\n",
              "      <th>as6</th>\n",
              "      <th>as7</th>\n",
              "      <th>as8</th>\n",
              "      <th>as9</th>\n",
              "      <th>as10</th>\n",
              "      <th>as11</th>\n",
              "      <th>a12</th>\n",
              "      <th>id</th>\n",
              "      <th>guid</th>\n",
              "      <th>link</th>\n",
              "      <th>pubdate</th>\n",
              "      <th>author</th>\n",
              "      <th>title</th>\n",
              "      <th>description</th>\n",
              "      <th>source</th>\n",
              "      <th>user_id</th>\n",
              "      <th>profile_image_url</th>\n",
              "      <th>user_statuses_count</th>\n",
              "      <th>user_friends_count</th>\n",
              "      <th>user_followers_count</th>\n",
              "      <th>user_created_at</th>\n",
              "      <th>user_bio</th>\n",
              "      <th>user_location</th>\n",
              "      <th>lang</th>\n",
              "      <th>coords</th>\n",
              "      <th>Unnamed: 18</th>\n",
              "      <th>punctuation</th>\n",
              "      <th>hastags</th>\n",
              "      <th>stopwords</th>\n",
              "      <th>lng</th>\n",
              "      <th>lng_score</th>\n",
              "      <th>char_count</th>\n",
              "      <th>avg_word</th>\n",
              "    </tr>\n",
              "  </thead>\n",
              "  <tbody>\n",
              "    <tr>\n",
              "      <th>0</th>\n",
              "      <td>0</td>\n",
              "      <td>1</td>\n",
              "      <td>https://twitter.com/_LoveCaribbean/statuses/12...</td>\n",
              "      <td>https://twitter.com/_LoveCaribbean/statuses/12...</td>\n",
              "      <td>2020-04-22 07:47:13</td>\n",
              "      <td>_LoveCaribbean</td>\n",
              "      <td>RT @grenadaexplorer: A tropical treasure to ch...</td>\n",
              "      <td>tropical treasure cherish forever exclusive  t...</td>\n",
              "      <td>Twitter Web App</td>\n",
              "      <td>1356684936</td>\n",
              "      <td>https://pbs.twimg.com/profile_images/474150473...</td>\n",
              "      <td>8047</td>\n",
              "      <td>1099</td>\n",
              "      <td>3019</td>\n",
              "      <td>2013-04-16 07:55:23</td>\n",
              "      <td>#CaribbeanDreaming The diversity of the Caribb...</td>\n",
              "      <td>London</td>\n",
              "      <td>en</td>\n",
              "      <td>NaN</td>\n",
              "      <td>NaN</td>\n",
              "      <td>NaN</td>\n",
              "      <td>NaN</td>\n",
              "      <td>NaN</td>\n",
              "      <td>NaN</td>\n",
              "      <td>NaN</td>\n",
              "      <td>NaN</td>\n",
              "      <td>NaN</td>\n",
              "      <td>NaN</td>\n",
              "      <td>NaN</td>\n",
              "      <td>NaN</td>\n",
              "      <td>NaN</td>\n",
              "      <td>NaN</td>\n",
              "      <td>NaN</td>\n",
              "      <td>NaN</td>\n",
              "      <td>NaN</td>\n",
              "      <td>NaN</td>\n",
              "      <td>NaN</td>\n",
              "      <td>NaN</td>\n",
              "      <td>NaN</td>\n",
              "      <td>21</td>\n",
              "      <td>0</td>\n",
              "      <td>4</td>\n",
              "      <td>en</td>\n",
              "      <td>0.999996</td>\n",
              "      <td>232</td>\n",
              "      <td>10.6</td>\n",
              "    </tr>\n",
              "    <tr>\n",
              "      <th>1</th>\n",
              "      <td>1</td>\n",
              "      <td>2</td>\n",
              "      <td>https://twitter.com/carolcruising/statuses/125...</td>\n",
              "      <td>https://twitter.com/carolcruising/statuses/125...</td>\n",
              "      <td>2020-04-22 07:44:47</td>\n",
              "      <td>carolcruising</td>\n",
              "      <td>RT @clairesturz: Backpacking in #Cuba on a Bud...</td>\n",
              "      <td>backpack  cuba budget  travelsomeday  armchair...</td>\n",
              "      <td>Twitter Web App</td>\n",
              "      <td>319114596</td>\n",
              "      <td>https://pbs.twimg.com/profile_images/630068953...</td>\n",
              "      <td>26683</td>\n",
              "      <td>660</td>\n",
              "      <td>1227</td>\n",
              "      <td>2011-06-17 11:47:16</td>\n",
              "      <td>Carol Colborn is the author of Carolina: Cruis...</td>\n",
              "      <td>Phoenix, AZ</td>\n",
              "      <td>en</td>\n",
              "      <td>NaN</td>\n",
              "      <td>NaN</td>\n",
              "      <td>NaN</td>\n",
              "      <td>NaN</td>\n",
              "      <td>NaN</td>\n",
              "      <td>NaN</td>\n",
              "      <td>NaN</td>\n",
              "      <td>NaN</td>\n",
              "      <td>NaN</td>\n",
              "      <td>NaN</td>\n",
              "      <td>NaN</td>\n",
              "      <td>NaN</td>\n",
              "      <td>NaN</td>\n",
              "      <td>NaN</td>\n",
              "      <td>NaN</td>\n",
              "      <td>NaN</td>\n",
              "      <td>NaN</td>\n",
              "      <td>NaN</td>\n",
              "      <td>NaN</td>\n",
              "      <td>NaN</td>\n",
              "      <td>NaN</td>\n",
              "      <td>9</td>\n",
              "      <td>0</td>\n",
              "      <td>3</td>\n",
              "      <td>en</td>\n",
              "      <td>0.999996</td>\n",
              "      <td>67</td>\n",
              "      <td>9.5</td>\n",
              "    </tr>\n",
              "    <tr>\n",
              "      <th>2</th>\n",
              "      <td>3</td>\n",
              "      <td>4</td>\n",
              "      <td>https://twitter.com/clairesturz/statuses/12529...</td>\n",
              "      <td>https://twitter.com/clairesturz/statuses/12529...</td>\n",
              "      <td>2020-04-22 07:32:39</td>\n",
              "      <td>clairesturz</td>\n",
              "      <td>Experience Buenos Aires like a local #travelso...</td>\n",
              "      <td>experience burns air like local  travelsomeday...</td>\n",
              "      <td>Revive Social App</td>\n",
              "      <td>874023301</td>\n",
              "      <td>https://pbs.twimg.com/profile_images/613107654...</td>\n",
              "      <td>39950</td>\n",
              "      <td>19520</td>\n",
              "      <td>24799</td>\n",
              "      <td>2012-10-11 13:32:59</td>\n",
              "      <td>Helping you plan your best future travel adven...</td>\n",
              "      <td>England, United Kingdom</td>\n",
              "      <td>es</td>\n",
              "      <td>NaN</td>\n",
              "      <td>NaN</td>\n",
              "      <td>NaN</td>\n",
              "      <td>NaN</td>\n",
              "      <td>NaN</td>\n",
              "      <td>NaN</td>\n",
              "      <td>NaN</td>\n",
              "      <td>NaN</td>\n",
              "      <td>NaN</td>\n",
              "      <td>NaN</td>\n",
              "      <td>NaN</td>\n",
              "      <td>NaN</td>\n",
              "      <td>NaN</td>\n",
              "      <td>NaN</td>\n",
              "      <td>NaN</td>\n",
              "      <td>NaN</td>\n",
              "      <td>NaN</td>\n",
              "      <td>NaN</td>\n",
              "      <td>NaN</td>\n",
              "      <td>NaN</td>\n",
              "      <td>NaN</td>\n",
              "      <td>9</td>\n",
              "      <td>0</td>\n",
              "      <td>1</td>\n",
              "      <td>en</td>\n",
              "      <td>0.999997</td>\n",
              "      <td>88</td>\n",
              "      <td>8.3</td>\n",
              "    </tr>\n",
              "    <tr>\n",
              "      <th>3</th>\n",
              "      <td>4</td>\n",
              "      <td>5</td>\n",
              "      <td>https://twitter.com/grenadaexplorer/statuses/1...</td>\n",
              "      <td>https://twitter.com/grenadaexplorer/statuses/1...</td>\n",
              "      <td>2020-04-22 07:32:02</td>\n",
              "      <td>grenadaexplorer</td>\n",
              "      <td>Who can\\'t wait for Grenada Sailing Festival 2...</td>\n",
              "      <td>cant wait grenade sail festival 2021   exclusi...</td>\n",
              "      <td>Buffer</td>\n",
              "      <td>17083471</td>\n",
              "      <td>https://pbs.twimg.com/profile_images/703782166...</td>\n",
              "      <td>4070</td>\n",
              "      <td>856</td>\n",
              "      <td>1882</td>\n",
              "      <td>2008-10-31 07:22:26</td>\n",
              "      <td>Travel &amp; Island Guide for Grenada in the Carib...</td>\n",
              "      <td>Grenada</td>\n",
              "      <td>en</td>\n",
              "      <td>NaN</td>\n",
              "      <td>NaN</td>\n",
              "      <td>NaN</td>\n",
              "      <td>NaN</td>\n",
              "      <td>NaN</td>\n",
              "      <td>NaN</td>\n",
              "      <td>NaN</td>\n",
              "      <td>NaN</td>\n",
              "      <td>NaN</td>\n",
              "      <td>NaN</td>\n",
              "      <td>NaN</td>\n",
              "      <td>NaN</td>\n",
              "      <td>NaN</td>\n",
              "      <td>NaN</td>\n",
              "      <td>NaN</td>\n",
              "      <td>NaN</td>\n",
              "      <td>NaN</td>\n",
              "      <td>NaN</td>\n",
              "      <td>NaN</td>\n",
              "      <td>NaN</td>\n",
              "      <td>NaN</td>\n",
              "      <td>25</td>\n",
              "      <td>0</td>\n",
              "      <td>3</td>\n",
              "      <td>en</td>\n",
              "      <td>0.996475</td>\n",
              "      <td>227</td>\n",
              "      <td>10.3</td>\n",
              "    </tr>\n",
              "    <tr>\n",
              "      <th>4</th>\n",
              "      <td>5</td>\n",
              "      <td>6</td>\n",
              "      <td>https://twitter.com/ikefuller/statuses/1252922...</td>\n",
              "      <td>https://twitter.com/ikefuller/statuses/1252922...</td>\n",
              "      <td>2020-04-22 07:30:12</td>\n",
              "      <td>ikefuller</td>\n",
              "      <td>RT @clairesturz: The Best Hostel in Barcelona ...</td>\n",
              "      <td>best hostel barcelona  fabrizzio  s petit revi...</td>\n",
              "      <td>Twitter Web App</td>\n",
              "      <td>283127000</td>\n",
              "      <td>https://pbs.twimg.com/profile_images/992460827...</td>\n",
              "      <td>4720</td>\n",
              "      <td>126</td>\n",
              "      <td>130</td>\n",
              "      <td>2011-04-16 12:46:28</td>\n",
              "      <td>Traveling enthusiast and Solo Traveler</td>\n",
              "      <td>Seattle, WA</td>\n",
              "      <td>en</td>\n",
              "      <td>NaN</td>\n",
              "      <td>NaN</td>\n",
              "      <td>NaN</td>\n",
              "      <td>NaN</td>\n",
              "      <td>NaN</td>\n",
              "      <td>NaN</td>\n",
              "      <td>NaN</td>\n",
              "      <td>NaN</td>\n",
              "      <td>NaN</td>\n",
              "      <td>NaN</td>\n",
              "      <td>NaN</td>\n",
              "      <td>NaN</td>\n",
              "      <td>NaN</td>\n",
              "      <td>NaN</td>\n",
              "      <td>NaN</td>\n",
              "      <td>NaN</td>\n",
              "      <td>NaN</td>\n",
              "      <td>NaN</td>\n",
              "      <td>NaN</td>\n",
              "      <td>NaN</td>\n",
              "      <td>NaN</td>\n",
              "      <td>8</td>\n",
              "      <td>0</td>\n",
              "      <td>2</td>\n",
              "      <td>en</td>\n",
              "      <td>0.857140</td>\n",
              "      <td>94</td>\n",
              "      <td>7.9</td>\n",
              "    </tr>\n",
              "  </tbody>\n",
              "</table>\n",
              "</div>"
            ],
            "text/plain": [
              "   Unnamed: 0  id1  ... char_count avg_word\n",
              "0           0    1  ...        232     10.6\n",
              "1           1    2  ...         67      9.5\n",
              "2           3    4  ...         88      8.3\n",
              "3           4    5  ...        227     10.3\n",
              "4           5    6  ...         94      7.9\n",
              "\n",
              "[5 rows x 46 columns]"
            ]
          },
          "metadata": {
            "tags": []
          },
          "execution_count": 89
        }
      ]
    },
    {
      "cell_type": "code",
      "metadata": {
        "id": "JivDz-pjrPCV"
      },
      "source": [
        "#Let's only use tweet column as data\n",
        "# Redefine df\n",
        "df= df.tweet"
      ],
      "execution_count": 90,
      "outputs": []
    },
    {
      "cell_type": "code",
      "metadata": {
        "colab": {
          "base_uri": "https://localhost:8080/"
        },
        "id": "_b5lvg6ZrfNV",
        "outputId": "8ef8b885-c4f6-4544-9af2-bb4f080e1dbe"
      },
      "source": [
        "df.head()"
      ],
      "execution_count": 91,
      "outputs": [
        {
          "output_type": "execute_result",
          "data": {
            "text/plain": [
              "0    tropical treasure cherish forever exclusive  t...\n",
              "1    backpack  cuba budget  travelsomeday  armchair...\n",
              "2    experience burns air like local  travelsomeday...\n",
              "3    cant wait grenade sail festival 2021   exclusi...\n",
              "4    best hostel barcelona  fabrizzio  s petit revi...\n",
              "Name: tweet, dtype: object"
            ]
          },
          "metadata": {
            "tags": []
          },
          "execution_count": 91
        }
      ]
    },
    {
      "cell_type": "code",
      "metadata": {
        "colab": {
          "base_uri": "https://localhost:8080/"
        },
        "id": "GnVAfQTNUZY2",
        "outputId": "ad2b8685-f6fb-4096-b154-2b6eb2f28cec"
      },
      "source": [
        "df = str(df)\n",
        "type(df)"
      ],
      "execution_count": 92,
      "outputs": [
        {
          "output_type": "execute_result",
          "data": {
            "text/plain": [
              "str"
            ]
          },
          "metadata": {
            "tags": []
          },
          "execution_count": 92
        }
      ]
    },
    {
      "cell_type": "code",
      "metadata": {
        "id": "2LfUyEwKUHLT"
      },
      "source": [
        "import re\n",
        "df = re.sub(r'[^a-zA-Z0-9\\s]', ' ', df)\n",
        "\n",
        "pattern = r'[0-9]'\n",
        "# Match all digits in the string and replace them by empty string\n",
        "df  = re.sub(pattern, '', df)"
      ],
      "execution_count": 93,
      "outputs": []
    },
    {
      "cell_type": "code",
      "metadata": {
        "id": "rjcarVVMfg8B"
      },
      "source": [
        "df = df.replace('\\r', '').replace('\\n', '')\n"
      ],
      "execution_count": 94,
      "outputs": []
    },
    {
      "cell_type": "code",
      "metadata": {
        "colab": {
          "base_uri": "https://localhost:8080/"
        },
        "id": "78elZexUriCR",
        "outputId": "20592253-ce98-496e-efeb-a9622399dd05"
      },
      "source": [
        "import nltk\n",
        "from nltk.util import ngrams\n",
        "import re\n",
        "\n",
        "tokens = [token for token in df.split(\" \") if token != \"\" ]\n",
        "\n",
        "#Let's check tokens for the first column\n",
        "tokens[:20]"
      ],
      "execution_count": 95,
      "outputs": [
        {
          "output_type": "execute_result",
          "data": {
            "text/plain": [
              "['tropical',\n",
              " 'treasure',\n",
              " 'cherish',\n",
              " 'forever',\n",
              " 'exclusive',\n",
              " 't',\n",
              " 'backpack',\n",
              " 'cuba',\n",
              " 'budget',\n",
              " 'travelsomeday',\n",
              " 'armchair',\n",
              " 'experience',\n",
              " 'burns',\n",
              " 'air',\n",
              " 'like',\n",
              " 'local',\n",
              " 'travelsomeday',\n",
              " 'cant',\n",
              " 'wait',\n",
              " 'grenade']"
            ]
          },
          "metadata": {
            "tags": []
          },
          "execution_count": 95
        }
      ]
    },
    {
      "cell_type": "code",
      "metadata": {
        "colab": {
          "base_uri": "https://localhost:8080/"
        },
        "id": "hZaEe83GDRFV",
        "outputId": "5f3b5c28-200c-407e-887a-2bfd7245e59f"
      },
      "source": [
        "list(ngrams(tokens, 5))"
      ],
      "execution_count": 96,
      "outputs": [
        {
          "output_type": "execute_result",
          "data": {
            "text/plain": [
              "[('tropical', 'treasure', 'cherish', 'forever', 'exclusive'),\n",
              " ('treasure', 'cherish', 'forever', 'exclusive', 't'),\n",
              " ('cherish', 'forever', 'exclusive', 't', 'backpack'),\n",
              " ('forever', 'exclusive', 't', 'backpack', 'cuba'),\n",
              " ('exclusive', 't', 'backpack', 'cuba', 'budget'),\n",
              " ('t', 'backpack', 'cuba', 'budget', 'travelsomeday'),\n",
              " ('backpack', 'cuba', 'budget', 'travelsomeday', 'armchair'),\n",
              " ('cuba', 'budget', 'travelsomeday', 'armchair', 'experience'),\n",
              " ('budget', 'travelsomeday', 'armchair', 'experience', 'burns'),\n",
              " ('travelsomeday', 'armchair', 'experience', 'burns', 'air'),\n",
              " ('armchair', 'experience', 'burns', 'air', 'like'),\n",
              " ('experience', 'burns', 'air', 'like', 'local'),\n",
              " ('burns', 'air', 'like', 'local', 'travelsomeday'),\n",
              " ('air', 'like', 'local', 'travelsomeday', 'cant'),\n",
              " ('like', 'local', 'travelsomeday', 'cant', 'wait'),\n",
              " ('local', 'travelsomeday', 'cant', 'wait', 'grenade'),\n",
              " ('travelsomeday', 'cant', 'wait', 'grenade', 'sail'),\n",
              " ('cant', 'wait', 'grenade', 'sail', 'festival'),\n",
              " ('wait', 'grenade', 'sail', 'festival', 'exclusi'),\n",
              " ('grenade', 'sail', 'festival', 'exclusi', 'best'),\n",
              " ('sail', 'festival', 'exclusi', 'best', 'hostel'),\n",
              " ('festival', 'exclusi', 'best', 'hostel', 'barcelona'),\n",
              " ('exclusi', 'best', 'hostel', 'barcelona', 'fabrizzio'),\n",
              " ('best', 'hostel', 'barcelona', 'fabrizzio', 's'),\n",
              " ('hostel', 'barcelona', 'fabrizzio', 's', 'petit'),\n",
              " ('barcelona', 'fabrizzio', 's', 'petit', 'revi'),\n",
              " ('fabrizzio', 's', 'petit', 'revi', 'lip'),\n",
              " ('s', 'petit', 'revi', 'lip', 'dinner'),\n",
              " ('petit', 'revi', 'lip', 'dinner', 'berlin'),\n",
              " ('revi', 'lip', 'dinner', 'berlin', 'to'),\n",
              " ('lip', 'dinner', 'berlin', 'to', 'tower'),\n",
              " ('dinner', 'berlin', 'to', 'tower', 'restaurant'),\n",
              " ('berlin', 'to', 'tower', 'restaurant', 'travel'),\n",
              " ('to', 'tower', 'restaurant', 'travel', 'plan'),\n",
              " ('tower', 'restaurant', 'travel', 'plan', 'overseas'),\n",
              " ('restaurant', 'travel', 'plan', 'overseas', 'trip'),\n",
              " ('travel', 'plan', 'overseas', 'trip', 'sign'),\n",
              " ('plan', 'overseas', 'trip', 'sign', 'access'),\n",
              " ('overseas', 'trip', 'sign', 'access', 'travel'),\n",
              " ('trip', 'sign', 'access', 'travel', 'resou'),\n",
              " ('sign', 'access', 'travel', 'resou', 'colombia'),\n",
              " ('access', 'travel', 'resou', 'colombia', 'solo'),\n",
              " ('travel', 'resou', 'colombia', 'solo', 'travel'),\n",
              " ('resou', 'colombia', 'solo', 'travel', 'travel'),\n",
              " ('colombia', 'solo', 'travel', 'travel', 'colombia'),\n",
              " ('solo', 'travel', 'travel', 'colombia', 'alone'),\n",
              " ('travel', 'travel', 'colombia', 'alone', 're'),\n",
              " ('travel', 'colombia', 'alone', 're', 'camp'),\n",
              " ('colombia', 'alone', 're', 'camp', 'alone'),\n",
              " ('alone', 're', 'camp', 'alone', 'safely'),\n",
              " ('re', 'camp', 'alone', 'safely', 'solo'),\n",
              " ('camp', 'alone', 'safely', 'solo', 'camp'),\n",
              " ('alone', 'safely', 'solo', 'camp', 'tip'),\n",
              " ('safely', 'solo', 'camp', 'tip', 'travelsom'),\n",
              " ('solo', 'camp', 'tip', 'travelsom', 'find'),\n",
              " ('camp', 'tip', 'travelsom', 'find', 'best'),\n",
              " ('tip', 'travelsom', 'find', 'best', 'flight'),\n",
              " ('travelsom', 'find', 'best', 'flight', 'deal'),\n",
              " ('find', 'best', 'flight', 'deal', 'black'),\n",
              " ('best', 'flight', 'deal', 'black', 'friday'),\n",
              " ('flight', 'deal', 'black', 'friday', 'year'),\n",
              " ('deal', 'black', 'friday', 'year', 'tr'),\n",
              " ('black', 'friday', 'year', 'tr', 'Name'),\n",
              " ('friday', 'year', 'tr', 'Name', 'tweet'),\n",
              " ('year', 'tr', 'Name', 'tweet', 'Length'),\n",
              " ('tr', 'Name', 'tweet', 'Length', 'dtype'),\n",
              " ('Name', 'tweet', 'Length', 'dtype', 'object')]"
            ]
          },
          "metadata": {
            "tags": []
          },
          "execution_count": 96
        }
      ]
    },
    {
      "cell_type": "code",
      "metadata": {
        "colab": {
          "base_uri": "https://localhost:8080/"
        },
        "id": "7PD9f_WDs877",
        "outputId": "dabd8a86-72d8-4e56-a0c8-cd218928d7d3"
      },
      "source": [
        "# Ngram with n=3\n",
        "list(ngrams(tokens, 3))"
      ],
      "execution_count": 97,
      "outputs": [
        {
          "output_type": "execute_result",
          "data": {
            "text/plain": [
              "[('tropical', 'treasure', 'cherish'),\n",
              " ('treasure', 'cherish', 'forever'),\n",
              " ('cherish', 'forever', 'exclusive'),\n",
              " ('forever', 'exclusive', 't'),\n",
              " ('exclusive', 't', 'backpack'),\n",
              " ('t', 'backpack', 'cuba'),\n",
              " ('backpack', 'cuba', 'budget'),\n",
              " ('cuba', 'budget', 'travelsomeday'),\n",
              " ('budget', 'travelsomeday', 'armchair'),\n",
              " ('travelsomeday', 'armchair', 'experience'),\n",
              " ('armchair', 'experience', 'burns'),\n",
              " ('experience', 'burns', 'air'),\n",
              " ('burns', 'air', 'like'),\n",
              " ('air', 'like', 'local'),\n",
              " ('like', 'local', 'travelsomeday'),\n",
              " ('local', 'travelsomeday', 'cant'),\n",
              " ('travelsomeday', 'cant', 'wait'),\n",
              " ('cant', 'wait', 'grenade'),\n",
              " ('wait', 'grenade', 'sail'),\n",
              " ('grenade', 'sail', 'festival'),\n",
              " ('sail', 'festival', 'exclusi'),\n",
              " ('festival', 'exclusi', 'best'),\n",
              " ('exclusi', 'best', 'hostel'),\n",
              " ('best', 'hostel', 'barcelona'),\n",
              " ('hostel', 'barcelona', 'fabrizzio'),\n",
              " ('barcelona', 'fabrizzio', 's'),\n",
              " ('fabrizzio', 's', 'petit'),\n",
              " ('s', 'petit', 'revi'),\n",
              " ('petit', 'revi', 'lip'),\n",
              " ('revi', 'lip', 'dinner'),\n",
              " ('lip', 'dinner', 'berlin'),\n",
              " ('dinner', 'berlin', 'to'),\n",
              " ('berlin', 'to', 'tower'),\n",
              " ('to', 'tower', 'restaurant'),\n",
              " ('tower', 'restaurant', 'travel'),\n",
              " ('restaurant', 'travel', 'plan'),\n",
              " ('travel', 'plan', 'overseas'),\n",
              " ('plan', 'overseas', 'trip'),\n",
              " ('overseas', 'trip', 'sign'),\n",
              " ('trip', 'sign', 'access'),\n",
              " ('sign', 'access', 'travel'),\n",
              " ('access', 'travel', 'resou'),\n",
              " ('travel', 'resou', 'colombia'),\n",
              " ('resou', 'colombia', 'solo'),\n",
              " ('colombia', 'solo', 'travel'),\n",
              " ('solo', 'travel', 'travel'),\n",
              " ('travel', 'travel', 'colombia'),\n",
              " ('travel', 'colombia', 'alone'),\n",
              " ('colombia', 'alone', 're'),\n",
              " ('alone', 're', 'camp'),\n",
              " ('re', 'camp', 'alone'),\n",
              " ('camp', 'alone', 'safely'),\n",
              " ('alone', 'safely', 'solo'),\n",
              " ('safely', 'solo', 'camp'),\n",
              " ('solo', 'camp', 'tip'),\n",
              " ('camp', 'tip', 'travelsom'),\n",
              " ('tip', 'travelsom', 'find'),\n",
              " ('travelsom', 'find', 'best'),\n",
              " ('find', 'best', 'flight'),\n",
              " ('best', 'flight', 'deal'),\n",
              " ('flight', 'deal', 'black'),\n",
              " ('deal', 'black', 'friday'),\n",
              " ('black', 'friday', 'year'),\n",
              " ('friday', 'year', 'tr'),\n",
              " ('year', 'tr', 'Name'),\n",
              " ('tr', 'Name', 'tweet'),\n",
              " ('Name', 'tweet', 'Length'),\n",
              " ('tweet', 'Length', 'dtype'),\n",
              " ('Length', 'dtype', 'object')]"
            ]
          },
          "metadata": {
            "tags": []
          },
          "execution_count": 97
        }
      ]
    },
    {
      "cell_type": "code",
      "metadata": {
        "colab": {
          "base_uri": "https://localhost:8080/"
        },
        "id": "_q7wcCaOtK1o",
        "outputId": "6ee17a73-8bba-4cb8-b2f7-2502567464dc"
      },
      "source": [
        "# Ngram with n=4\n",
        "list(ngrams(tokens, 4))[:4]"
      ],
      "execution_count": 98,
      "outputs": [
        {
          "output_type": "execute_result",
          "data": {
            "text/plain": [
              "[('tropical', 'treasure', 'cherish', 'forever'),\n",
              " ('treasure', 'cherish', 'forever', 'exclusive'),\n",
              " ('cherish', 'forever', 'exclusive', 't'),\n",
              " ('forever', 'exclusive', 't', 'backpack')]"
            ]
          },
          "metadata": {
            "tags": []
          },
          "execution_count": 98
        }
      ]
    },
    {
      "cell_type": "code",
      "metadata": {
        "colab": {
          "base_uri": "https://localhost:8080/",
          "height": 359
        },
        "id": "nDZNAGobue5_",
        "outputId": "c4d95113-d961-43be-d9e2-a80a58847b37"
      },
      "source": [
        "pd.DataFrame(ngrams(tokens, 3)).sample(10)"
      ],
      "execution_count": 99,
      "outputs": [
        {
          "output_type": "execute_result",
          "data": {
            "text/html": [
              "<div>\n",
              "<style scoped>\n",
              "    .dataframe tbody tr th:only-of-type {\n",
              "        vertical-align: middle;\n",
              "    }\n",
              "\n",
              "    .dataframe tbody tr th {\n",
              "        vertical-align: top;\n",
              "    }\n",
              "\n",
              "    .dataframe thead th {\n",
              "        text-align: right;\n",
              "    }\n",
              "</style>\n",
              "<table border=\"1\" class=\"dataframe\">\n",
              "  <thead>\n",
              "    <tr style=\"text-align: right;\">\n",
              "      <th></th>\n",
              "      <th>0</th>\n",
              "      <th>1</th>\n",
              "      <th>2</th>\n",
              "    </tr>\n",
              "  </thead>\n",
              "  <tbody>\n",
              "    <tr>\n",
              "      <th>46</th>\n",
              "      <td>travel</td>\n",
              "      <td>travel</td>\n",
              "      <td>colombia</td>\n",
              "    </tr>\n",
              "    <tr>\n",
              "      <th>52</th>\n",
              "      <td>alone</td>\n",
              "      <td>safely</td>\n",
              "      <td>solo</td>\n",
              "    </tr>\n",
              "    <tr>\n",
              "      <th>41</th>\n",
              "      <td>access</td>\n",
              "      <td>travel</td>\n",
              "      <td>resou</td>\n",
              "    </tr>\n",
              "    <tr>\n",
              "      <th>48</th>\n",
              "      <td>colombia</td>\n",
              "      <td>alone</td>\n",
              "      <td>re</td>\n",
              "    </tr>\n",
              "    <tr>\n",
              "      <th>9</th>\n",
              "      <td>travelsomeday</td>\n",
              "      <td>armchair</td>\n",
              "      <td>experience</td>\n",
              "    </tr>\n",
              "    <tr>\n",
              "      <th>6</th>\n",
              "      <td>backpack</td>\n",
              "      <td>cuba</td>\n",
              "      <td>budget</td>\n",
              "    </tr>\n",
              "    <tr>\n",
              "      <th>62</th>\n",
              "      <td>black</td>\n",
              "      <td>friday</td>\n",
              "      <td>year</td>\n",
              "    </tr>\n",
              "    <tr>\n",
              "      <th>28</th>\n",
              "      <td>petit</td>\n",
              "      <td>revi</td>\n",
              "      <td>lip</td>\n",
              "    </tr>\n",
              "    <tr>\n",
              "      <th>2</th>\n",
              "      <td>cherish</td>\n",
              "      <td>forever</td>\n",
              "      <td>exclusive</td>\n",
              "    </tr>\n",
              "    <tr>\n",
              "      <th>13</th>\n",
              "      <td>air</td>\n",
              "      <td>like</td>\n",
              "      <td>local</td>\n",
              "    </tr>\n",
              "  </tbody>\n",
              "</table>\n",
              "</div>"
            ],
            "text/plain": [
              "                0         1           2\n",
              "46         travel    travel    colombia\n",
              "52          alone    safely        solo\n",
              "41         access    travel       resou\n",
              "48       colombia     alone          re\n",
              "9   travelsomeday  armchair  experience\n",
              "6        backpack      cuba      budget\n",
              "62          black    friday        year\n",
              "28          petit      revi         lip\n",
              "2         cherish   forever   exclusive\n",
              "13            air      like       local"
            ]
          },
          "metadata": {
            "tags": []
          },
          "execution_count": 99
        }
      ]
    },
    {
      "cell_type": "code",
      "metadata": {
        "colab": {
          "base_uri": "https://localhost:8080/"
        },
        "id": "X62cMjGZcH4l",
        "outputId": "ee0a10b9-7adc-4a61-fdb0-86d50e2a0269"
      },
      "source": [
        "(pd.Series(nltk.ngrams(tokens, 2)).value_counts())[:10]"
      ],
      "execution_count": 100,
      "outputs": [
        {
          "output_type": "execute_result",
          "data": {
            "text/plain": [
              "(berlin, to)              1\n",
              "(find, best)              1\n",
              "(solo, travel)            1\n",
              "(sail, festival)          1\n",
              "(burns, air)              1\n",
              "(t, backpack)             1\n",
              "(flight, deal)            1\n",
              "(air, like)               1\n",
              "(barcelona, fabrizzio)    1\n",
              "(exclusi, best)           1\n",
              "dtype: int64"
            ]
          },
          "metadata": {
            "tags": []
          },
          "execution_count": 100
        }
      ]
    },
    {
      "cell_type": "code",
      "metadata": {
        "colab": {
          "base_uri": "https://localhost:8080/"
        },
        "id": "j8ppYxftppjP",
        "outputId": "2ddc927c-3124-418d-e95d-9528023a1f16"
      },
      "source": [
        "import collections\n",
        "bigram_counts = collections.Counter(pd.Series(nltk.ngrams(tokens, 2)))\n",
        "bigram_counts.most_common(20)"
      ],
      "execution_count": 101,
      "outputs": [
        {
          "output_type": "execute_result",
          "data": {
            "text/plain": [
              "[(('tropical', 'treasure'), 1),\n",
              " (('treasure', 'cherish'), 1),\n",
              " (('cherish', 'forever'), 1),\n",
              " (('forever', 'exclusive'), 1),\n",
              " (('exclusive', 't'), 1),\n",
              " (('t', 'backpack'), 1),\n",
              " (('backpack', 'cuba'), 1),\n",
              " (('cuba', 'budget'), 1),\n",
              " (('budget', 'travelsomeday'), 1),\n",
              " (('travelsomeday', 'armchair'), 1),\n",
              " (('armchair', 'experience'), 1),\n",
              " (('experience', 'burns'), 1),\n",
              " (('burns', 'air'), 1),\n",
              " (('air', 'like'), 1),\n",
              " (('like', 'local'), 1),\n",
              " (('local', 'travelsomeday'), 1),\n",
              " (('travelsomeday', 'cant'), 1),\n",
              " (('cant', 'wait'), 1),\n",
              " (('wait', 'grenade'), 1),\n",
              " (('grenade', 'sail'), 1)]"
            ]
          },
          "metadata": {
            "tags": []
          },
          "execution_count": 101
        }
      ]
    },
    {
      "cell_type": "code",
      "metadata": {
        "colab": {
          "base_uri": "https://localhost:8080/",
          "height": 669
        },
        "id": "rcC2biYplY2B",
        "outputId": "ad614461-264d-40b2-e21c-d19ab8376087"
      },
      "source": [
        "bigram_df = pd.DataFrame(bigram_counts.most_common(20),\n",
        "                             columns=['bigram', 'count'])\n",
        "\n",
        "bigram_df"
      ],
      "execution_count": 102,
      "outputs": [
        {
          "output_type": "execute_result",
          "data": {
            "text/html": [
              "<div>\n",
              "<style scoped>\n",
              "    .dataframe tbody tr th:only-of-type {\n",
              "        vertical-align: middle;\n",
              "    }\n",
              "\n",
              "    .dataframe tbody tr th {\n",
              "        vertical-align: top;\n",
              "    }\n",
              "\n",
              "    .dataframe thead th {\n",
              "        text-align: right;\n",
              "    }\n",
              "</style>\n",
              "<table border=\"1\" class=\"dataframe\">\n",
              "  <thead>\n",
              "    <tr style=\"text-align: right;\">\n",
              "      <th></th>\n",
              "      <th>bigram</th>\n",
              "      <th>count</th>\n",
              "    </tr>\n",
              "  </thead>\n",
              "  <tbody>\n",
              "    <tr>\n",
              "      <th>0</th>\n",
              "      <td>(tropical, treasure)</td>\n",
              "      <td>1</td>\n",
              "    </tr>\n",
              "    <tr>\n",
              "      <th>1</th>\n",
              "      <td>(treasure, cherish)</td>\n",
              "      <td>1</td>\n",
              "    </tr>\n",
              "    <tr>\n",
              "      <th>2</th>\n",
              "      <td>(cherish, forever)</td>\n",
              "      <td>1</td>\n",
              "    </tr>\n",
              "    <tr>\n",
              "      <th>3</th>\n",
              "      <td>(forever, exclusive)</td>\n",
              "      <td>1</td>\n",
              "    </tr>\n",
              "    <tr>\n",
              "      <th>4</th>\n",
              "      <td>(exclusive, t)</td>\n",
              "      <td>1</td>\n",
              "    </tr>\n",
              "    <tr>\n",
              "      <th>5</th>\n",
              "      <td>(t, backpack)</td>\n",
              "      <td>1</td>\n",
              "    </tr>\n",
              "    <tr>\n",
              "      <th>6</th>\n",
              "      <td>(backpack, cuba)</td>\n",
              "      <td>1</td>\n",
              "    </tr>\n",
              "    <tr>\n",
              "      <th>7</th>\n",
              "      <td>(cuba, budget)</td>\n",
              "      <td>1</td>\n",
              "    </tr>\n",
              "    <tr>\n",
              "      <th>8</th>\n",
              "      <td>(budget, travelsomeday)</td>\n",
              "      <td>1</td>\n",
              "    </tr>\n",
              "    <tr>\n",
              "      <th>9</th>\n",
              "      <td>(travelsomeday, armchair)</td>\n",
              "      <td>1</td>\n",
              "    </tr>\n",
              "    <tr>\n",
              "      <th>10</th>\n",
              "      <td>(armchair, experience)</td>\n",
              "      <td>1</td>\n",
              "    </tr>\n",
              "    <tr>\n",
              "      <th>11</th>\n",
              "      <td>(experience, burns)</td>\n",
              "      <td>1</td>\n",
              "    </tr>\n",
              "    <tr>\n",
              "      <th>12</th>\n",
              "      <td>(burns, air)</td>\n",
              "      <td>1</td>\n",
              "    </tr>\n",
              "    <tr>\n",
              "      <th>13</th>\n",
              "      <td>(air, like)</td>\n",
              "      <td>1</td>\n",
              "    </tr>\n",
              "    <tr>\n",
              "      <th>14</th>\n",
              "      <td>(like, local)</td>\n",
              "      <td>1</td>\n",
              "    </tr>\n",
              "    <tr>\n",
              "      <th>15</th>\n",
              "      <td>(local, travelsomeday)</td>\n",
              "      <td>1</td>\n",
              "    </tr>\n",
              "    <tr>\n",
              "      <th>16</th>\n",
              "      <td>(travelsomeday, cant)</td>\n",
              "      <td>1</td>\n",
              "    </tr>\n",
              "    <tr>\n",
              "      <th>17</th>\n",
              "      <td>(cant, wait)</td>\n",
              "      <td>1</td>\n",
              "    </tr>\n",
              "    <tr>\n",
              "      <th>18</th>\n",
              "      <td>(wait, grenade)</td>\n",
              "      <td>1</td>\n",
              "    </tr>\n",
              "    <tr>\n",
              "      <th>19</th>\n",
              "      <td>(grenade, sail)</td>\n",
              "      <td>1</td>\n",
              "    </tr>\n",
              "  </tbody>\n",
              "</table>\n",
              "</div>"
            ],
            "text/plain": [
              "                       bigram  count\n",
              "0        (tropical, treasure)      1\n",
              "1         (treasure, cherish)      1\n",
              "2          (cherish, forever)      1\n",
              "3        (forever, exclusive)      1\n",
              "4              (exclusive, t)      1\n",
              "5               (t, backpack)      1\n",
              "6            (backpack, cuba)      1\n",
              "7              (cuba, budget)      1\n",
              "8     (budget, travelsomeday)      1\n",
              "9   (travelsomeday, armchair)      1\n",
              "10     (armchair, experience)      1\n",
              "11        (experience, burns)      1\n",
              "12               (burns, air)      1\n",
              "13                (air, like)      1\n",
              "14              (like, local)      1\n",
              "15     (local, travelsomeday)      1\n",
              "16      (travelsomeday, cant)      1\n",
              "17               (cant, wait)      1\n",
              "18            (wait, grenade)      1\n",
              "19            (grenade, sail)      1"
            ]
          },
          "metadata": {
            "tags": []
          },
          "execution_count": 102
        }
      ]
    },
    {
      "cell_type": "code",
      "metadata": {
        "colab": {
          "base_uri": "https://localhost:8080/"
        },
        "id": "-pS57AnVoniO",
        "outputId": "322f6059-218c-4d6e-8d8d-14ebc3a53a82"
      },
      "source": [
        "pd.Series(nltk.ngrams(tokens, 2)).value_counts()"
      ],
      "execution_count": 103,
      "outputs": [
        {
          "output_type": "execute_result",
          "data": {
            "text/plain": [
              "(berlin, to)          1\n",
              "(find, best)          1\n",
              "(solo, travel)        1\n",
              "(sail, festival)      1\n",
              "(burns, air)          1\n",
              "                     ..\n",
              "(best, hostel)        1\n",
              "(cherish, forever)    1\n",
              "(re, camp)            1\n",
              "(wait, grenade)       1\n",
              "(Length, dtype)       1\n",
              "Length: 70, dtype: int64"
            ]
          },
          "metadata": {
            "tags": []
          },
          "execution_count": 103
        }
      ]
    },
    {
      "cell_type": "markdown",
      "metadata": {
        "id": "Pqce9siRq2da"
      },
      "source": [
        "Data Visulization for Bigram Networks"
      ]
    },
    {
      "cell_type": "code",
      "metadata": {
        "id": "msn0y7g-pMWf"
      },
      "source": [
        "# Create dictionary of bigrams and their counts\n",
        "\n",
        "import matplotlib.pyplot as plt\n",
        "import seaborn as sns\n",
        "import networkx as nx\n",
        "\n",
        "sns.set(font_scale=1.5)\n",
        "sns.set_style(\"whitegrid\")\n",
        "\n",
        "d = bigram_df.set_index('bigram').T.to_dict('records')"
      ],
      "execution_count": 104,
      "outputs": []
    },
    {
      "cell_type": "code",
      "metadata": {
        "id": "YbO6UWuzqQkp"
      },
      "source": [
        "# Create network plot \n",
        "G = nx.Graph()\n",
        "\n",
        "# Create connections between nodes\n",
        "for k, v in d[0].items():\n",
        "    G.add_edge(k[0], k[1], weight=(v * 10))\n",
        "\n",
        "G.add_node(\"china\", weight=100)"
      ],
      "execution_count": 105,
      "outputs": []
    },
    {
      "cell_type": "code",
      "metadata": {
        "colab": {
          "base_uri": "https://localhost:8080/",
          "height": 466
        },
        "id": "3h4FkedEqsJv",
        "outputId": "8029bf31-92cc-487e-a81f-d8201cd59363"
      },
      "source": [
        "sns.set_style(\"darkgrid\")\n",
        "fig, ax = plt.subplots(figsize=(9, 8))\n",
        "\n",
        "pos = nx.spring_layout(G, k=2)\n",
        "\n",
        "# Plot networks\n",
        "nx.draw_networkx(G, pos,\n",
        "                 font_size=16,\n",
        "                 width=3,\n",
        "                 edge_color='lightsalmon',\n",
        "                 node_color='lightblue',\n",
        "                 with_labels = False,\n",
        "                 ax=ax)\n",
        "\n",
        "# Create offset labels\n",
        "for key, value in pos.items():\n",
        "    x, y = value[0]+.135, value[1]+.045\n",
        "    ax.text(x, y,\n",
        "            s=key,\n",
        "            bbox=dict(facecolor='indigo', alpha=0.25),\n",
        "            horizontalalignment='center', fontsize=13)\n",
        "    \n",
        "plt.show()"
      ],
      "execution_count": 108,
      "outputs": [
        {
          "output_type": "display_data",
          "data": {
            "image/png": "[encoded data removed]",
            "text/plain": [
              "<Figure size 648x576 with 1 Axes>"
            ]
          },
          "metadata": {
            "tags": []
          }
        }
      ]
    }
  ]
}